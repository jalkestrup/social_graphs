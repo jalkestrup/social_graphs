{
 "cells": [
  {
   "cell_type": "code",
   "execution_count": 1,
   "metadata": {},
   "outputs": [],
   "source": [
    "import numpy as np\n"
   ]
  },
  {
   "cell_type": "code",
   "execution_count": 2,
   "metadata": {},
   "outputs": [],
   "source": [
    "import requests\n",
    "\n",
    "url_test = 'https://oda.ft.dk/api/Afstemning?$expand=Sagstrin/Sag&$filter=vedtaget eq true&$inlinecount=allpages'\n",
    "\n",
    "r = requests.get(url_test)\n",
    "\n",
    "sager = r.json()"
   ]
  },
  {
   "cell_type": "code",
   "execution_count": 3,
   "metadata": {},
   "outputs": [],
   "source": [
    "#This function takes dict, extracts the next link, gets the new dict and appends it to the old dict\n",
    "\n",
    "def get_all_pages(url):\n",
    "\n",
    "    r = requests.get(url)\n",
    "\n",
    "    sager = r.json()\n",
    "    prev = r.json()\n",
    "\n",
    "    while 'odata.nextLink' in prev:\n",
    "\n",
    "        r = requests.get(prev['odata.nextLink'])\n",
    "        sager['value'] += r.json()['value']\n",
    "        prev = r.json()\n",
    "\n",
    "    return sager"
   ]
  },
  {
   "cell_type": "code",
   "execution_count": 19,
   "metadata": {},
   "outputs": [
    {
     "data": {
      "text/plain": [
       "dict_keys(['odata.metadata', 'odata.count', 'value', 'odata.nextLink'])"
      ]
     },
     "execution_count": 19,
     "metadata": {},
     "output_type": "execute_result"
    }
   ],
   "source": [
    "sager = get_all_pages(url_test)\n",
    "sager.keys()"
   ]
  },
  {
   "cell_type": "code",
   "execution_count": 20,
   "metadata": {},
   "outputs": [
    {
     "data": {
      "text/plain": [
       "array([ 9, 10])"
      ]
     },
     "execution_count": 20,
     "metadata": {},
     "output_type": "execute_result"
    }
   ],
   "source": [
    "#checking if all sager have the same keys\n",
    "test = [len(sager['value'][i].keys()) for i in range(len(sager['value']))]\n",
    "np.unique(test)"
   ]
  },
  {
   "cell_type": "code",
   "execution_count": 22,
   "metadata": {},
   "outputs": [
    {
     "data": {
      "text/plain": [
       "[0,\n",
       " 1099,\n",
       " 1100,\n",
       " 1327,\n",
       " 1404,\n",
       " 1531,\n",
       " 1532,\n",
       " 1533,\n",
       " 1542,\n",
       " 1544,\n",
       " 1550,\n",
       " 1556,\n",
       " 1559,\n",
       " 1560]"
      ]
     },
     "execution_count": 22,
     "metadata": {},
     "output_type": "execute_result"
    }
   ],
   "source": [
    "#they don't, so we check how many sager have missing keys\n",
    "missing_keys = [i for i in range(len(sager['value'])) if len(sager['value'][i].keys()) != 10]\n",
    "missing_keys"
   ]
  },
  {
   "cell_type": "code",
   "execution_count": 23,
   "metadata": {},
   "outputs": [],
   "source": [
    "#the above is only 14, so we remove those sager\n",
    "clean_sager = [sag for sag in sager['value'] if len(sag) == 10]"
   ]
  },
  {
   "cell_type": "code",
   "execution_count": 55,
   "metadata": {},
   "outputs": [
    {
     "data": {
      "text/plain": [
       "2"
      ]
     },
     "execution_count": 55,
     "metadata": {},
     "output_type": "execute_result"
    }
   ],
   "source": [
    "clean_sager[0]['id']"
   ]
  },
  {
   "cell_type": "code",
   "execution_count": 57,
   "metadata": {},
   "outputs": [],
   "source": [
    "#This function takes an id for a vote and collects all the votes for that vote\n",
    "\n",
    "def get_all_votes(id):\n",
    "    url = f'https://oda.ft.dk/api/Afstemning({id})/Stemme?$inlinecount=allpages'\n",
    "    r = requests.get(url)\n",
    "    votes = r.json()\n",
    "    prev = r.json()\n",
    "    while 'odata.nextLink' in prev:\n",
    "        r = requests.get(prev['odata.nextLink'])\n",
    "        votes['value'] += r.json()['value']\n",
    "        prev = r.json()\n",
    "    return votes\n",
    "\n",
    "\n",
    "votes_test = get_all_votes(clean_sager[0]['id'])"
   ]
  },
  {
   "cell_type": "code",
   "execution_count": 61,
   "metadata": {},
   "outputs": [
    {
     "data": {
      "text/plain": [
       "179"
      ]
     },
     "execution_count": 61,
     "metadata": {},
     "output_type": "execute_result"
    }
   ],
   "source": [
    "len(votes_test['value'])"
   ]
  },
  {
   "cell_type": "code",
   "execution_count": 50,
   "metadata": {},
   "outputs": [
    {
     "data": {
      "text/plain": [
       "{'odata.metadata': 'https://oda.ft.dk/api/$metadata#Akt%C3%B8r/@Element',\n",
       " 'id': 158,\n",
       " 'typeid': 5,\n",
       " 'gruppenavnkort': None,\n",
       " 'navn': 'Eigil Andersen',\n",
       " 'fornavn': 'Eigil',\n",
       " 'efternavn': 'Andersen',\n",
       " 'biografi': '<?xml version=\"1.0\" encoding=\"utf-16\"?>\\n<membersMember xmlns:xsi=\"http://www.w3.org/2001/XMLSchema-instance\" xmlns:xsd=\"http://www.w3.org/2001/XMLSchema\" tid=\"0\">\\n  <profession>Journalist</profession>\\n  <shortname>SFEIAN</shortname>\\n  <firstname>Eigil</firstname>\\n  <lastname>Andersen</lastname>\\n  <party>Socialistisk Folkeparti</party>\\n  <title>Eigil Andersen (SF)</title>\\n  <pictureMiRes>http://www.ft.dk/~/media/CV/Foto/20111/SF/Eigil_Andersen/Eigil_Andersenx133.jpg.ashx</pictureMiRes>\\n  <PictureHiRes>http://www.ft.dk/~/media/CV/Foto/20111/SF/Eigil_Andersen/Eigil_Andersen.zip.ashx</PictureHiRes>\\n  <address>Folketinget, Christiansborg</address>\\n  <zip>1240</zip>\\n  <city>København K</city>\\n  <phoneFolketinget>+45 3337 4403</phoneFolketinget>\\n  <email>eigil.andersen@ft.dk</email>\\n  <memberData>Eigil Andersen, født 25. mar 1953 i Karup, søn af sognepræst Aage Andersen  og socialrådgiver Anna Andersen. Gift med Hannah Aagaard-Jensen 2008. Far til Asbjørn Andersen, født i 1986.</memberData>\\n  <career>\\n    <currentConstituency> Folketingsmedlem for Socialistisk Folkeparti i Østjyllands Storkreds fra 13. nov 2007</currentConstituency>\\n    <constituencies />\\n    <substitutes>\\n      <substitute>Midlertidigt folketingsmedlem for Socialistisk Folkeparti i Århus Amtskreds  fra 28. apr 2005 til 17. jun 2005</substitute>\\n    </substitutes>\\n    <nominations>\\n      <nomination>Kandidat for Socialistisk Folkeparti i Århus Vestkredsen  fra 1992</nomination>\\n    </nominations>\\n    <parliamentaryPositionOfTrust>\\n      <p>Arbejdsmarkedsordfører og\\xa0boligordfører.</p>\\n    </parliamentaryPositionOfTrust>\\n  </career>\\n  <educations>\\n    <education>Uddannet journalist, Danmarks Journalisthøjskole,  1976</education>\\n    <education>Studentereksamen, Viborg Katedralskole,  1972</education>\\n  </educations>\\n  <occupations>\\n    <occupation> Ansat i Danmarks Radio (orlov fra 2007),  fra 1980</occupation>\\n    <occupation> Producer på den ugentlige radioudsendelse Faglig Brevkasse på P1,  fra 1980 til 1989</occupation>\\n    <occupation> Ansvarlig for trafikmeldinger på P4 Østjylland, Århus,  fra 1995 til 2007</occupation>\\n  </occupations>\\n  <positionOfTrust>Aktiv i fagforeningsarbejde i Dansk Journalistforbund 1982-1992. Fritidsformand for Dansk Journalistforbund i Østjylland 1988-1992. Medlem af Socialistisk Folkepartis hovedbestyrelse 1995-2008. Formand for Socialistisk\\nFolkepartis faglige landsudvalg, valgt på partiets faglige landsmøde 1999-2010.</positionOfTrust>\\n  <publications>Medforfatter til bøgerne »Ikke et ord om ytringsfrihed«, 1977, og »Folketingets udvalg 1950-75«, 1977.</publications>\\n  <honours>Modtog LO’s kulturpris for journalistik om arbejdsmarkedet 1989.</honours>\\n  <currentSpokesmens>\\n    <spokesMan>Arbejdsmarkedsordfører </spokesMan>\\n    <spokesMan>Boligordfører </spokesMan>\\n  </currentSpokesmens>\\n</membersMember>',\n",
       " 'periodeid': None,\n",
       " 'opdateringsdato': '2021-02-19T17:33:17.13',\n",
       " 'startdato': '2008-10-07T00:00:00',\n",
       " 'slutdato': None}"
      ]
     },
     "execution_count": 50,
     "metadata": {},
     "output_type": "execute_result"
    }
   ],
   "source": [
    "#takes stemme-id which is id in stemme and returns info on the specific politician\n",
    "\n",
    "def get_politician(id):\n",
    "    \n",
    "        url = f'https://oda.ft.dk/api/Stemme({id})/Akt%C3%B8r?$expand=Parti'\n",
    "    \n",
    "        r = requests.get(url)\n",
    "    \n",
    "        return r.json()\n",
    "        # we are only interested in typeid: 5, which is a person\n",
    "\n",
    "test = get_politician(1)\n",
    "\n",
    "test"
   ]
  }
 ],
 "metadata": {
  "kernelspec": {
   "display_name": "Python 3.9.13 ('css')",
   "language": "python",
   "name": "python3"
  },
  "language_info": {
   "codemirror_mode": {
    "name": "ipython",
    "version": 3
   },
   "file_extension": ".py",
   "mimetype": "text/x-python",
   "name": "python",
   "nbconvert_exporter": "python",
   "pygments_lexer": "ipython3",
   "version": "3.9.13"
  },
  "orig_nbformat": 4,
  "vscode": {
   "interpreter": {
    "hash": "62d2e8ce6522291d9930173861772635a8d5610900201c489ec5ebd5d6e92cdf"
   }
  }
 },
 "nbformat": 4,
 "nbformat_minor": 2
}
