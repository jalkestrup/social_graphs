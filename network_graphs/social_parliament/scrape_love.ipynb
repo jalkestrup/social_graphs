{
 "cells": [
  {
   "cell_type": "code",
   "execution_count": 1,
   "metadata": {},
   "outputs": [],
   "source": [
    "import numpy as np\n"
   ]
  },
  {
   "cell_type": "code",
   "execution_count": 34,
   "metadata": {},
   "outputs": [],
   "source": [
    "import requests\n",
    "\n",
    "url_test = 'https://oda.ft.dk/api/Afstemning?$expand=Sagstrin/Sag&$filter=vedtaget eq true&$inlinecount=allpages'\n",
    "\n",
    "r = requests.get(url_test)\n",
    "\n",
    "sager = r.json()"
   ]
  },
  {
   "cell_type": "code",
   "execution_count": 96,
   "metadata": {},
   "outputs": [],
   "source": [
    "#This function takes dict, extracts the next link, gets the new dict and appends it to the old dict\n",
    "\n",
    "def get_all_pages(url):\n",
    "\n",
    "    r = requests.get(url)\n",
    "\n",
    "    sager = r.json()\n",
    "    prev = r.json()\n",
    "\n",
    "    while 'odata.nextLink' in prev:\n",
    "\n",
    "        r = requests.get(prev['odata.nextLink'])\n",
    "        sager['value'] += r.json()['value']\n",
    "        prev = r.json()\n",
    "\n",
    "    return sager"
   ]
  },
  {
   "cell_type": "code",
   "execution_count": 97,
   "metadata": {},
   "outputs": [],
   "source": [
    "sager = get_all_pages(url_test)"
   ]
  },
  {
   "cell_type": "code",
   "execution_count": 107,
   "metadata": {},
   "outputs": [],
   "source": [
    "test = [len(sager['value'][i].keys()) for i in range(len(sager['value']))]"
   ]
  }
 ],
 "metadata": {
  "kernelspec": {
   "display_name": "Python 3.9.13 ('css')",
   "language": "python",
   "name": "python3"
  },
  "language_info": {
   "codemirror_mode": {
    "name": "ipython",
    "version": 3
   },
   "file_extension": ".py",
   "mimetype": "text/x-python",
   "name": "python",
   "nbconvert_exporter": "python",
   "pygments_lexer": "ipython3",
   "version": "3.9.13"
  },
  "orig_nbformat": 4,
  "vscode": {
   "interpreter": {
    "hash": "62d2e8ce6522291d9930173861772635a8d5610900201c489ec5ebd5d6e92cdf"
   }
  }
 },
 "nbformat": 4,
 "nbformat_minor": 2
}
