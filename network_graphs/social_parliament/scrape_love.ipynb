{
 "cells": [
  {
   "cell_type": "code",
   "execution_count": 1,
   "metadata": {},
   "outputs": [],
   "source": [
    "import numpy as np\n"
   ]
  },
  {
   "cell_type": "code",
   "execution_count": 2,
   "metadata": {},
   "outputs": [],
   "source": [
    "import requests\n",
    "\n",
    "url_test = 'https://oda.ft.dk/api/Afstemning?$expand=Sagstrin/Sag&$filter=vedtaget eq true&$inlinecount=allpages'\n",
    "\n",
    "r = requests.get(url_test)\n",
    "\n",
    "sager = r.json()"
   ]
  },
  {
   "cell_type": "code",
   "execution_count": 3,
   "metadata": {},
   "outputs": [],
   "source": [
    "#This function takes dict, extracts the next link, gets the new dict and appends it to the old dict\n",
    "\n",
    "def get_all_pages(url):\n",
    "\n",
    "    r = requests.get(url)\n",
    "\n",
    "    sager = r.json()\n",
    "    prev = r.json()\n",
    "\n",
    "    while 'odata.nextLink' in prev:\n",
    "\n",
    "        r = requests.get(prev['odata.nextLink'])\n",
    "        sager['value'] += r.json()['value']\n",
    "        prev = r.json()\n",
    "\n",
    "    return sager"
   ]
  },
  {
   "cell_type": "code",
   "execution_count": 4,
   "metadata": {},
   "outputs": [
    {
     "data": {
      "text/plain": [
       "dict_keys(['odata.metadata', 'odata.count', 'value', 'odata.nextLink'])"
      ]
     },
     "execution_count": 4,
     "metadata": {},
     "output_type": "execute_result"
    }
   ],
   "source": [
    "sager = get_all_pages(url_test)\n",
    "sager.keys()"
   ]
  },
  {
   "cell_type": "code",
   "execution_count": 5,
   "metadata": {},
   "outputs": [
    {
     "data": {
      "text/plain": [
       "array([ 9, 10])"
      ]
     },
     "execution_count": 5,
     "metadata": {},
     "output_type": "execute_result"
    }
   ],
   "source": [
    "#checking if all sager have the same keys\n",
    "test = [len(sager['value'][i].keys()) for i in range(len(sager['value']))]\n",
    "np.unique(test)"
   ]
  },
  {
   "cell_type": "code",
   "execution_count": 6,
   "metadata": {},
   "outputs": [
    {
     "data": {
      "text/plain": [
       "[0,\n",
       " 1099,\n",
       " 1100,\n",
       " 1327,\n",
       " 1404,\n",
       " 1531,\n",
       " 1532,\n",
       " 1533,\n",
       " 1542,\n",
       " 1544,\n",
       " 1550,\n",
       " 1556,\n",
       " 1559,\n",
       " 1560]"
      ]
     },
     "execution_count": 6,
     "metadata": {},
     "output_type": "execute_result"
    }
   ],
   "source": [
    "#they don't, so we check how many sager have missing keys\n",
    "missing_keys = [i for i in range(len(sager['value'])) if len(sager['value'][i].keys()) != 10]\n",
    "missing_keys"
   ]
  },
  {
   "cell_type": "code",
   "execution_count": 7,
   "metadata": {},
   "outputs": [],
   "source": [
    "#the above is only 14, so we remove those sager\n",
    "clean_sager = [sag for sag in sager['value'] if len(sag) == 10]"
   ]
  },
  {
   "cell_type": "code",
   "execution_count": 8,
   "metadata": {},
   "outputs": [
    {
     "data": {
      "text/plain": [
       "dict_keys(['Sagstrin', 'id', 'nummer', 'konklusion', 'vedtaget', 'kommentar', 'mødeid', 'typeid', 'sagstrinid', 'opdateringsdato'])"
      ]
     },
     "execution_count": 8,
     "metadata": {},
     "output_type": "execute_result"
    }
   ],
   "source": [
    "clean_sager[0].keys()"
   ]
  },
  {
   "cell_type": "code",
   "execution_count": null,
   "metadata": {},
   "outputs": [],
   "source": [
    "#export clean sag to json\n",
    "import json\n",
    "with open('clean_sager.json', 'w') as f:\n",
    "    json.dump(clean_sager, f)"
   ]
  },
  {
   "cell_type": "code",
   "execution_count": null,
   "metadata": {},
   "outputs": [],
   "source": []
  }
 ],
 "metadata": {
  "kernelspec": {
   "display_name": "Python 3.7.13 ('socialgraph')",
   "language": "python",
   "name": "python3"
  },
  "language_info": {
   "codemirror_mode": {
    "name": "ipython",
    "version": 3
   },
   "file_extension": ".py",
   "mimetype": "text/x-python",
   "name": "python",
   "nbconvert_exporter": "python",
   "pygments_lexer": "ipython3",
   "version": "3.7.13"
  },
  "orig_nbformat": 4,
  "vscode": {
   "interpreter": {
    "hash": "558621546fb66101762e1225335965d11253aec76fa35e4352d07a3625311602"
   }
  }
 },
 "nbformat": 4,
 "nbformat_minor": 2
}
