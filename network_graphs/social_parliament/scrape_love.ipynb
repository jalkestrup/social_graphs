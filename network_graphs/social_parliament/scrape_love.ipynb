{
 "cells": [
  {
   "cell_type": "code",
   "execution_count": 1,
   "metadata": {},
   "outputs": [],
   "source": [
    "import numpy as np\n"
   ]
  },
  {
   "cell_type": "code",
   "execution_count": 2,
   "metadata": {},
   "outputs": [],
   "source": [
    "import requests\n",
    "\n",
    "url_test = 'https://oda.ft.dk/api/Afstemning?$expand=Sagstrin/Sag&$filter=vedtaget eq true&$inlinecount=allpages'\n",
    "\n",
    "r = requests.get(url_test)\n",
    "\n",
    "sager = r.json()"
   ]
  },
  {
   "cell_type": "code",
   "execution_count": 3,
   "metadata": {},
   "outputs": [],
   "source": [
    "#This function takes dict, extracts the next link, gets the new dict and appends it to the old dict\n",
    "\n",
    "def get_all_pages(url):\n",
    "\n",
    "    r = requests.get(url)\n",
    "\n",
    "    sager = r.json()\n",
    "    prev = r.json()\n",
    "\n",
    "    while 'odata.nextLink' in prev:\n",
    "\n",
    "        r = requests.get(prev['odata.nextLink'])\n",
    "        sager['value'] += r.json()['value']\n",
    "        prev = r.json()\n",
    "\n",
    "    return sager"
   ]
  },
  {
   "cell_type": "code",
   "execution_count": 19,
   "metadata": {},
   "outputs": [
    {
     "data": {
      "text/plain": [
       "dict_keys(['odata.metadata', 'odata.count', 'value', 'odata.nextLink'])"
      ]
     },
     "execution_count": 19,
     "metadata": {},
     "output_type": "execute_result"
    }
   ],
   "source": [
    "sager = get_all_pages(url_test)\n",
    "sager.keys()"
   ]
  },
  {
   "cell_type": "code",
   "execution_count": 20,
   "metadata": {},
   "outputs": [
    {
     "data": {
      "text/plain": [
       "array([ 9, 10])"
      ]
     },
     "execution_count": 20,
     "metadata": {},
     "output_type": "execute_result"
    }
   ],
   "source": [
    "#checking if all sager have the same keys\n",
    "test = [len(sager['value'][i].keys()) for i in range(len(sager['value']))]\n",
    "np.unique(test)"
   ]
  },
  {
   "cell_type": "code",
   "execution_count": 22,
   "metadata": {},
   "outputs": [
    {
     "data": {
      "text/plain": [
       "[0,\n",
       " 1099,\n",
       " 1100,\n",
       " 1327,\n",
       " 1404,\n",
       " 1531,\n",
       " 1532,\n",
       " 1533,\n",
       " 1542,\n",
       " 1544,\n",
       " 1550,\n",
       " 1556,\n",
       " 1559,\n",
       " 1560]"
      ]
     },
     "execution_count": 22,
     "metadata": {},
     "output_type": "execute_result"
    }
   ],
   "source": [
    "#they don't, so we check how many sager have missing keys\n",
    "missing_keys = [i for i in range(len(sager['value'])) if len(sager['value'][i].keys()) != 10]\n",
    "missing_keys"
   ]
  },
  {
   "cell_type": "code",
   "execution_count": 23,
   "metadata": {},
   "outputs": [],
   "source": [
    "#the above is only 14, so we remove those sager\n",
    "clean_sager = [sag for sag in sager['value'] if len(sag) == 10]"
   ]
  },
  {
   "cell_type": "code",
   "execution_count": 24,
   "metadata": {},
   "outputs": [
    {
     "data": {
      "text/plain": [
       "dict_keys(['Sagstrin', 'id', 'nummer', 'konklusion', 'vedtaget', 'kommentar', 'mødeid', 'typeid', 'sagstrinid', 'opdateringsdato'])"
      ]
     },
     "execution_count": 24,
     "metadata": {},
     "output_type": "execute_result"
    }
   ],
   "source": [
    "clean_sager[0].keys()"
   ]
  }
 ],
 "metadata": {
  "kernelspec": {
   "display_name": "Python 3.9.13 ('css')",
   "language": "python",
   "name": "python3"
  },
  "language_info": {
   "codemirror_mode": {
    "name": "ipython",
    "version": 3
   },
   "file_extension": ".py",
   "mimetype": "text/x-python",
   "name": "python",
   "nbconvert_exporter": "python",
   "pygments_lexer": "ipython3",
   "version": "3.9.13"
  },
  "orig_nbformat": 4,
  "vscode": {
   "interpreter": {
    "hash": "62d2e8ce6522291d9930173861772635a8d5610900201c489ec5ebd5d6e92cdf"
   }
  }
 },
 "nbformat": 4,
 "nbformat_minor": 2
}
