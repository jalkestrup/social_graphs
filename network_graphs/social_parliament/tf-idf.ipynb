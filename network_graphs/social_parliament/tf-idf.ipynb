{
 "cells": [
  {
   "cell_type": "markdown",
   "metadata": {},
   "source": [
    "# Creating TF-IDF"
   ]
  },
  {
   "cell_type": "code",
   "execution_count": 12,
   "metadata": {},
   "outputs": [],
   "source": [
    "import pickle\n",
    "\n",
    "# Load pickle file\n",
    "with open('df_law_clean.pickle', 'rb') as f:\n",
    "    law_df = pickle.load(f)"
   ]
  },
  {
   "cell_type": "code",
   "execution_count": 13,
   "metadata": {},
   "outputs": [
    {
     "data": {
      "text/html": [
       "<div>\n",
       "<style scoped>\n",
       "    .dataframe tbody tr th:only-of-type {\n",
       "        vertical-align: middle;\n",
       "    }\n",
       "\n",
       "    .dataframe tbody tr th {\n",
       "        vertical-align: top;\n",
       "    }\n",
       "\n",
       "    .dataframe thead th {\n",
       "        text-align: right;\n",
       "    }\n",
       "</style>\n",
       "<table border=\"1\" class=\"dataframe\">\n",
       "  <thead>\n",
       "    <tr style=\"text-align: right;\">\n",
       "      <th></th>\n",
       "      <th>afstemnings_id</th>\n",
       "      <th>dato_sagstrin</th>\n",
       "      <th>sag_id</th>\n",
       "      <th>titel</th>\n",
       "      <th>titel_kort</th>\n",
       "      <th>lovnummer_num</th>\n",
       "      <th>resume</th>\n",
       "      <th>periode_id</th>\n",
       "      <th>votes_combined_info</th>\n",
       "      <th>votes_adjusted</th>\n",
       "      <th>afstemnings_id_pfix</th>\n",
       "      <th>law_category</th>\n",
       "      <th>law_category_id</th>\n",
       "      <th>law_category_clean</th>\n",
       "    </tr>\n",
       "  </thead>\n",
       "  <tbody>\n",
       "    <tr>\n",
       "      <th>0</th>\n",
       "      <td>2</td>\n",
       "      <td>2014-09-09T09:15:00</td>\n",
       "      <td>1449</td>\n",
       "      <td>Forslag til lov om ændring af virksomhedsskatt...</td>\n",
       "      <td>Om indgreb mod utilsigtet udnyttelse af virkso...</td>\n",
       "      <td>200</td>\n",
       "      <td>Loven ændrer virksomhedsskatteordningens regle...</td>\n",
       "      <td>32</td>\n",
       "      <td>[{'id': 180, 'typeid': 1, 'afstemningid': 2, '...</td>\n",
       "      <td>[{'id': 180, 'typeid': 1, 'afstemningid': 2, '...</td>\n",
       "      <td>p2</td>\n",
       "      <td>[Skatter og afgifter 70, virksomhedsskat]</td>\n",
       "      <td>[33062, 33754]</td>\n",
       "      <td>[Skatter og afgifter, virksomhedsskat]</td>\n",
       "    </tr>\n",
       "    <tr>\n",
       "      <th>1</th>\n",
       "      <td>4</td>\n",
       "      <td>2012-11-06T00:00:00</td>\n",
       "      <td>5904</td>\n",
       "      <td>Forslag til lov om akutjob og jobpræmie til ar...</td>\n",
       "      <td>Om akutjob.</td>\n",
       "      <td>46</td>\n",
       "      <td>Med loven etableres en midlertidig ordning, så...</td>\n",
       "      <td>31</td>\n",
       "      <td>[{'id': 850407, 'typeid': 1, 'afstemningid': 4...</td>\n",
       "      <td>[{'id': 850407, 'typeid': 1, 'afstemningid': 4...</td>\n",
       "      <td>p4</td>\n",
       "      <td>[akutjob og jobpræmie til arbejdsgivere, polit...</td>\n",
       "      <td>[62218, 34460, 33270, 33070]</td>\n",
       "      <td>[akutjob og jobpræmie til arbejdsgivere, polit...</td>\n",
       "    </tr>\n",
       "    <tr>\n",
       "      <th>2</th>\n",
       "      <td>5</td>\n",
       "      <td>2014-09-09T09:15:00</td>\n",
       "      <td>1449</td>\n",
       "      <td>Forslag til lov om ændring af virksomhedsskatt...</td>\n",
       "      <td>Om indgreb mod utilsigtet udnyttelse af virkso...</td>\n",
       "      <td>200</td>\n",
       "      <td>Loven ændrer virksomhedsskatteordningens regle...</td>\n",
       "      <td>32</td>\n",
       "      <td>[{'id': 164665, 'typeid': 1, 'afstemningid': 5...</td>\n",
       "      <td>[{'id': 164665, 'typeid': 1, 'afstemningid': 5...</td>\n",
       "      <td>p5</td>\n",
       "      <td>[Skatter og afgifter 70, virksomhedsskat]</td>\n",
       "      <td>[33062, 33754]</td>\n",
       "      <td>[Skatter og afgifter, virksomhedsskat]</td>\n",
       "    </tr>\n",
       "    <tr>\n",
       "      <th>3</th>\n",
       "      <td>9</td>\n",
       "      <td>2014-06-11T09:00:00</td>\n",
       "      <td>1451</td>\n",
       "      <td>Forslag til lov om ændring af lov om trafiksel...</td>\n",
       "      <td>Om Region Nordjyllands overtagelse af statens ...</td>\n",
       "      <td>136</td>\n",
       "      <td>Med loven åbnes der mulighed for, at Region No...</td>\n",
       "      <td>32</td>\n",
       "      <td>[{'id': 163591, 'typeid': 4, 'afstemningid': 9...</td>\n",
       "      <td>[{'id': 163591, 'typeid': 4, 'afstemningid': 9...</td>\n",
       "      <td>p9</td>\n",
       "      <td>[kollektiv transport, transportpolitik]</td>\n",
       "      <td>[33056, 33086]</td>\n",
       "      <td>[kollektiv transport, transportpolitik]</td>\n",
       "    </tr>\n",
       "    <tr>\n",
       "      <th>4</th>\n",
       "      <td>10</td>\n",
       "      <td>2014-06-11T09:00:00</td>\n",
       "      <td>780</td>\n",
       "      <td>Forslag til lov om projektering af nyanlæg og ...</td>\n",
       "      <td>Om nyanlæg og hastighedsopgraderinger af jernb...</td>\n",
       "      <td>172</td>\n",
       "      <td>Loven indeholder bemyndigelse til, at transpor...</td>\n",
       "      <td>32</td>\n",
       "      <td>[{'id': 163770, 'typeid': 1, 'afstemningid': 1...</td>\n",
       "      <td>[{'id': 163770, 'typeid': 1, 'afstemningid': 1...</td>\n",
       "      <td>p10</td>\n",
       "      <td>[politisk aftale, projektering af nyanlæg og h...</td>\n",
       "      <td>[34460, 84356, 83647, 33917, 33364]</td>\n",
       "      <td>[politisk aftale, projektering af nyanlæg og h...</td>\n",
       "    </tr>\n",
       "  </tbody>\n",
       "</table>\n",
       "</div>"
      ],
      "text/plain": [
       "   afstemnings_id        dato_sagstrin  sag_id  \\\n",
       "0               2  2014-09-09T09:15:00    1449   \n",
       "1               4  2012-11-06T00:00:00    5904   \n",
       "2               5  2014-09-09T09:15:00    1449   \n",
       "3               9  2014-06-11T09:00:00    1451   \n",
       "4              10  2014-06-11T09:00:00     780   \n",
       "\n",
       "                                               titel  \\\n",
       "0  Forslag til lov om ændring af virksomhedsskatt...   \n",
       "1  Forslag til lov om akutjob og jobpræmie til ar...   \n",
       "2  Forslag til lov om ændring af virksomhedsskatt...   \n",
       "3  Forslag til lov om ændring af lov om trafiksel...   \n",
       "4  Forslag til lov om projektering af nyanlæg og ...   \n",
       "\n",
       "                                          titel_kort lovnummer_num  \\\n",
       "0  Om indgreb mod utilsigtet udnyttelse af virkso...           200   \n",
       "1                                        Om akutjob.            46   \n",
       "2  Om indgreb mod utilsigtet udnyttelse af virkso...           200   \n",
       "3  Om Region Nordjyllands overtagelse af statens ...           136   \n",
       "4  Om nyanlæg og hastighedsopgraderinger af jernb...           172   \n",
       "\n",
       "                                              resume  periode_id  \\\n",
       "0  Loven ændrer virksomhedsskatteordningens regle...          32   \n",
       "1  Med loven etableres en midlertidig ordning, så...          31   \n",
       "2  Loven ændrer virksomhedsskatteordningens regle...          32   \n",
       "3  Med loven åbnes der mulighed for, at Region No...          32   \n",
       "4  Loven indeholder bemyndigelse til, at transpor...          32   \n",
       "\n",
       "                                 votes_combined_info  \\\n",
       "0  [{'id': 180, 'typeid': 1, 'afstemningid': 2, '...   \n",
       "1  [{'id': 850407, 'typeid': 1, 'afstemningid': 4...   \n",
       "2  [{'id': 164665, 'typeid': 1, 'afstemningid': 5...   \n",
       "3  [{'id': 163591, 'typeid': 4, 'afstemningid': 9...   \n",
       "4  [{'id': 163770, 'typeid': 1, 'afstemningid': 1...   \n",
       "\n",
       "                                      votes_adjusted afstemnings_id_pfix  \\\n",
       "0  [{'id': 180, 'typeid': 1, 'afstemningid': 2, '...                  p2   \n",
       "1  [{'id': 850407, 'typeid': 1, 'afstemningid': 4...                  p4   \n",
       "2  [{'id': 164665, 'typeid': 1, 'afstemningid': 5...                  p5   \n",
       "3  [{'id': 163591, 'typeid': 4, 'afstemningid': 9...                  p9   \n",
       "4  [{'id': 163770, 'typeid': 1, 'afstemningid': 1...                 p10   \n",
       "\n",
       "                                        law_category  \\\n",
       "0          [Skatter og afgifter 70, virksomhedsskat]   \n",
       "1  [akutjob og jobpræmie til arbejdsgivere, polit...   \n",
       "2          [Skatter og afgifter 70, virksomhedsskat]   \n",
       "3            [kollektiv transport, transportpolitik]   \n",
       "4  [politisk aftale, projektering af nyanlæg og h...   \n",
       "\n",
       "                       law_category_id  \\\n",
       "0                       [33062, 33754]   \n",
       "1         [62218, 34460, 33270, 33070]   \n",
       "2                       [33062, 33754]   \n",
       "3                       [33056, 33086]   \n",
       "4  [34460, 84356, 83647, 33917, 33364]   \n",
       "\n",
       "                                  law_category_clean  \n",
       "0             [Skatter og afgifter, virksomhedsskat]  \n",
       "1  [akutjob og jobpræmie til arbejdsgivere, polit...  \n",
       "2             [Skatter og afgifter, virksomhedsskat]  \n",
       "3            [kollektiv transport, transportpolitik]  \n",
       "4  [politisk aftale, projektering af nyanlæg og h...  "
      ]
     },
     "execution_count": 13,
     "metadata": {},
     "output_type": "execute_result"
    }
   ],
   "source": [
    "law_df.head()"
   ]
  },
  {
   "cell_type": "code",
   "execution_count": 14,
   "metadata": {},
   "outputs": [
    {
     "data": {
      "text/plain": [
       "Index(['afstemnings_id', 'dato_sagstrin', 'sag_id', 'titel', 'titel_kort',\n",
       "       'lovnummer_num', 'resume', 'periode_id', 'votes_combined_info',\n",
       "       'votes_adjusted', 'afstemnings_id_pfix', 'law_category',\n",
       "       'law_category_id', 'law_category_clean'],\n",
       "      dtype='object')"
      ]
     },
     "execution_count": 14,
     "metadata": {},
     "output_type": "execute_result"
    }
   ],
   "source": [
    "law_df.keys()"
   ]
  },
  {
   "cell_type": "code",
   "execution_count": 15,
   "metadata": {},
   "outputs": [],
   "source": [
    "# Load pickle file\n",
    "with open('df_votes_politicians_clean.pickle', 'rb') as f:\n",
    "    votes_df = pickle.load(f)"
   ]
  },
  {
   "cell_type": "code",
   "execution_count": 16,
   "metadata": {},
   "outputs": [
    {
     "data": {
      "text/html": [
       "<div>\n",
       "<style scoped>\n",
       "    .dataframe tbody tr th:only-of-type {\n",
       "        vertical-align: middle;\n",
       "    }\n",
       "\n",
       "    .dataframe tbody tr th {\n",
       "        vertical-align: top;\n",
       "    }\n",
       "\n",
       "    .dataframe thead th {\n",
       "        text-align: right;\n",
       "    }\n",
       "</style>\n",
       "<table border=\"1\" class=\"dataframe\">\n",
       "  <thead>\n",
       "    <tr style=\"text-align: right;\">\n",
       "      <th></th>\n",
       "      <th>afstemnings_id</th>\n",
       "      <th>votes_combined_info</th>\n",
       "      <th>periode_id</th>\n",
       "    </tr>\n",
       "  </thead>\n",
       "  <tbody>\n",
       "    <tr>\n",
       "      <th>0</th>\n",
       "      <td>2</td>\n",
       "      <td>[{'id': 180, 'typeid': 1, 'afstemningid': 2, '...</td>\n",
       "      <td>32</td>\n",
       "    </tr>\n",
       "    <tr>\n",
       "      <th>1</th>\n",
       "      <td>4</td>\n",
       "      <td>[{'id': 850407, 'typeid': 1, 'afstemningid': 4...</td>\n",
       "      <td>31</td>\n",
       "    </tr>\n",
       "    <tr>\n",
       "      <th>2</th>\n",
       "      <td>5</td>\n",
       "      <td>[{'id': 164665, 'typeid': 1, 'afstemningid': 5...</td>\n",
       "      <td>32</td>\n",
       "    </tr>\n",
       "    <tr>\n",
       "      <th>3</th>\n",
       "      <td>9</td>\n",
       "      <td>[{'id': 163591, 'typeid': 4, 'afstemningid': 9...</td>\n",
       "      <td>32</td>\n",
       "    </tr>\n",
       "    <tr>\n",
       "      <th>4</th>\n",
       "      <td>10</td>\n",
       "      <td>[{'id': 163770, 'typeid': 1, 'afstemningid': 1...</td>\n",
       "      <td>32</td>\n",
       "    </tr>\n",
       "  </tbody>\n",
       "</table>\n",
       "</div>"
      ],
      "text/plain": [
       "   afstemnings_id                                votes_combined_info  \\\n",
       "0               2  [{'id': 180, 'typeid': 1, 'afstemningid': 2, '...   \n",
       "1               4  [{'id': 850407, 'typeid': 1, 'afstemningid': 4...   \n",
       "2               5  [{'id': 164665, 'typeid': 1, 'afstemningid': 5...   \n",
       "3               9  [{'id': 163591, 'typeid': 4, 'afstemningid': 9...   \n",
       "4              10  [{'id': 163770, 'typeid': 1, 'afstemningid': 1...   \n",
       "\n",
       "   periode_id  \n",
       "0          32  \n",
       "1          31  \n",
       "2          32  \n",
       "3          32  \n",
       "4          32  "
      ]
     },
     "execution_count": 16,
     "metadata": {},
     "output_type": "execute_result"
    }
   ],
   "source": [
    "votes_df.head()"
   ]
  },
  {
   "cell_type": "code",
   "execution_count": 17,
   "metadata": {},
   "outputs": [
    {
     "data": {
      "text/plain": [
       "Index(['afstemnings_id', 'votes_combined_info', 'periode_id'], dtype='object')"
      ]
     },
     "execution_count": 17,
     "metadata": {},
     "output_type": "execute_result"
    }
   ],
   "source": [
    "votes_df.keys()"
   ]
  },
  {
   "cell_type": "code",
   "execution_count": 9,
   "metadata": {},
   "outputs": [],
   "source": [
    "# Extract law texts that a certain party has voted for\n"
   ]
  },
  {
   "cell_type": "code",
   "execution_count": null,
   "metadata": {},
   "outputs": [],
   "source": []
  }
 ],
 "metadata": {
  "kernelspec": {
   "display_name": "Python 3.8.5 ('base')",
   "language": "python",
   "name": "python3"
  },
  "language_info": {
   "codemirror_mode": {
    "name": "ipython",
    "version": 3
   },
   "file_extension": ".py",
   "mimetype": "text/x-python",
   "name": "python",
   "nbconvert_exporter": "python",
   "pygments_lexer": "ipython3",
   "version": "3.8.5"
  },
  "orig_nbformat": 4,
  "vscode": {
   "interpreter": {
    "hash": "be5cb24be3356bf14b752b18dd85bc8652e17d1e9e17190a425b4be29e1b7a5a"
   }
  }
 },
 "nbformat": 4,
 "nbformat_minor": 2
}
